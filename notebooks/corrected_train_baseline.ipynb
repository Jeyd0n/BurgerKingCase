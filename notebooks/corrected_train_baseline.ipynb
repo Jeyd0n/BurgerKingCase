{
 "cells": [
  {
   "cell_type": "code",
   "execution_count": 1,
   "metadata": {},
   "outputs": [],
   "source": [
    "import sys\n",
    "\n",
    "sys.path.append('..')"
   ]
  },
  {
   "cell_type": "code",
   "execution_count": 2,
   "metadata": {},
   "outputs": [],
   "source": [
    "import pandas as pd\n",
    "import matplotlib.pyplot as plt\n",
    "from sklearn.model_selection import train_test_split\n",
    "from sklearn.ensemble import RandomForestClassifier, RandomForestRegressor\n",
    "from sklearn.model_selection import cross_val_score, GridSearchCV\n",
    "from sklearn.metrics import f1_score, RocCurveDisplay, mean_squared_error\n",
    "\n",
    "from src.data.data_transformer import DataTransformer"
   ]
  },
  {
   "cell_type": "code",
   "execution_count": 3,
   "metadata": {},
   "outputs": [],
   "source": [
    "train = pd.read_parquet('../data/raw/train_dataset_hackaton2023_train.gzip')"
   ]
  },
  {
   "cell_type": "code",
   "execution_count": 4,
   "metadata": {},
   "outputs": [],
   "source": [
    "train = DataTransformer(is_train=True).fit_transform(\n",
    "    X=train\n",
    ")"
   ]
  },
  {
   "cell_type": "markdown",
   "metadata": {},
   "source": [
    "### Задача классификация"
   ]
  },
  {
   "cell_type": "code",
   "execution_count": 5,
   "metadata": {},
   "outputs": [],
   "source": [
    "X_buy_post, y_buy_post = train.drop(['buy_post', 'startdatetime', 'customer_id', 'date_diff_post'], axis=1), train['buy_post']"
   ]
  },
  {
   "cell_type": "code",
   "execution_count": 6,
   "metadata": {},
   "outputs": [
    {
     "data": {
      "text/html": [
       "<div>\n",
       "<style scoped>\n",
       "    .dataframe tbody tr th:only-of-type {\n",
       "        vertical-align: middle;\n",
       "    }\n",
       "\n",
       "    .dataframe tbody tr th {\n",
       "        vertical-align: top;\n",
       "    }\n",
       "\n",
       "    .dataframe thead th {\n",
       "        text-align: right;\n",
       "    }\n",
       "</style>\n",
       "<table border=\"1\" class=\"dataframe\">\n",
       "  <thead>\n",
       "    <tr style=\"text-align: right;\">\n",
       "      <th></th>\n",
       "      <th>MaxMinDelta</th>\n",
       "      <th>MeanOrderPrice</th>\n",
       "      <th>FavoriteDish</th>\n",
       "      <th>FavoriteHour</th>\n",
       "      <th>MostVisitedFormat</th>\n",
       "      <th>is_food_court</th>\n",
       "      <th>is_toilet</th>\n",
       "    </tr>\n",
       "  </thead>\n",
       "  <tbody>\n",
       "    <tr>\n",
       "      <th>0</th>\n",
       "      <td>57</td>\n",
       "      <td>230.39</td>\n",
       "      <td>9</td>\n",
       "      <td>9</td>\n",
       "      <td>1</td>\n",
       "      <td>0</td>\n",
       "      <td>1</td>\n",
       "    </tr>\n",
       "    <tr>\n",
       "      <th>34</th>\n",
       "      <td>51</td>\n",
       "      <td>283.00</td>\n",
       "      <td>29</td>\n",
       "      <td>9</td>\n",
       "      <td>0</td>\n",
       "      <td>0</td>\n",
       "      <td>1</td>\n",
       "    </tr>\n",
       "    <tr>\n",
       "      <th>149</th>\n",
       "      <td>50</td>\n",
       "      <td>493.40</td>\n",
       "      <td>2</td>\n",
       "      <td>15</td>\n",
       "      <td>2</td>\n",
       "      <td>1</td>\n",
       "      <td>0</td>\n",
       "    </tr>\n",
       "    <tr>\n",
       "      <th>248</th>\n",
       "      <td>27</td>\n",
       "      <td>144.48</td>\n",
       "      <td>50</td>\n",
       "      <td>21</td>\n",
       "      <td>3</td>\n",
       "      <td>0</td>\n",
       "      <td>0</td>\n",
       "    </tr>\n",
       "    <tr>\n",
       "      <th>455</th>\n",
       "      <td>15</td>\n",
       "      <td>558.94</td>\n",
       "      <td>43</td>\n",
       "      <td>11</td>\n",
       "      <td>2</td>\n",
       "      <td>1</td>\n",
       "      <td>0</td>\n",
       "    </tr>\n",
       "    <tr>\n",
       "      <th>...</th>\n",
       "      <td>...</td>\n",
       "      <td>...</td>\n",
       "      <td>...</td>\n",
       "      <td>...</td>\n",
       "      <td>...</td>\n",
       "      <td>...</td>\n",
       "      <td>...</td>\n",
       "    </tr>\n",
       "    <tr>\n",
       "      <th>24261871</th>\n",
       "      <td>1</td>\n",
       "      <td>389.05</td>\n",
       "      <td>5</td>\n",
       "      <td>11</td>\n",
       "      <td>2</td>\n",
       "      <td>1</td>\n",
       "      <td>0</td>\n",
       "    </tr>\n",
       "    <tr>\n",
       "      <th>24261882</th>\n",
       "      <td>0</td>\n",
       "      <td>603.78</td>\n",
       "      <td>2</td>\n",
       "      <td>15</td>\n",
       "      <td>4</td>\n",
       "      <td>1</td>\n",
       "      <td>1</td>\n",
       "    </tr>\n",
       "    <tr>\n",
       "      <th>24261928</th>\n",
       "      <td>0</td>\n",
       "      <td>412.70</td>\n",
       "      <td>156</td>\n",
       "      <td>21</td>\n",
       "      <td>2</td>\n",
       "      <td>1</td>\n",
       "      <td>0</td>\n",
       "    </tr>\n",
       "    <tr>\n",
       "      <th>24261958</th>\n",
       "      <td>0</td>\n",
       "      <td>454.97</td>\n",
       "      <td>465</td>\n",
       "      <td>12</td>\n",
       "      <td>1</td>\n",
       "      <td>0</td>\n",
       "      <td>1</td>\n",
       "    </tr>\n",
       "    <tr>\n",
       "      <th>24261964</th>\n",
       "      <td>0</td>\n",
       "      <td>281.97</td>\n",
       "      <td>29</td>\n",
       "      <td>18</td>\n",
       "      <td>4</td>\n",
       "      <td>1</td>\n",
       "      <td>1</td>\n",
       "    </tr>\n",
       "  </tbody>\n",
       "</table>\n",
       "<p>500000 rows × 7 columns</p>\n",
       "</div>"
      ],
      "text/plain": [
       "          MaxMinDelta  MeanOrderPrice  FavoriteDish  FavoriteHour  \\\n",
       "0                  57          230.39             9             9   \n",
       "34                 51          283.00            29             9   \n",
       "149                50          493.40             2            15   \n",
       "248                27          144.48            50            21   \n",
       "455                15          558.94            43            11   \n",
       "...               ...             ...           ...           ...   \n",
       "24261871            1          389.05             5            11   \n",
       "24261882            0          603.78             2            15   \n",
       "24261928            0          412.70           156            21   \n",
       "24261958            0          454.97           465            12   \n",
       "24261964            0          281.97            29            18   \n",
       "\n",
       "          MostVisitedFormat  is_food_court  is_toilet  \n",
       "0                         1              0          1  \n",
       "34                        0              0          1  \n",
       "149                       2              1          0  \n",
       "248                       3              0          0  \n",
       "455                       2              1          0  \n",
       "...                     ...            ...        ...  \n",
       "24261871                  2              1          0  \n",
       "24261882                  4              1          1  \n",
       "24261928                  2              1          0  \n",
       "24261958                  1              0          1  \n",
       "24261964                  4              1          1  \n",
       "\n",
       "[500000 rows x 7 columns]"
      ]
     },
     "execution_count": 6,
     "metadata": {},
     "output_type": "execute_result"
    }
   ],
   "source": [
    "X_buy_post"
   ]
  },
  {
   "cell_type": "code",
   "execution_count": 7,
   "metadata": {},
   "outputs": [],
   "source": [
    "X_train_buy_post, X_test_buy_post, y_train_buy_post, y_test_buy_post = train_test_split(\n",
    "    X_buy_post, y_buy_post,\n",
    "    test_size=0.33,\n",
    "    shuffle=True,\n",
    "    random_state=55\n",
    ")"
   ]
  },
  {
   "cell_type": "code",
   "execution_count": 8,
   "metadata": {},
   "outputs": [],
   "source": [
    "forest_classifier = RandomForestClassifier(n_estimators=1000, max_depth=20, class_weight='balanced', random_state=21)"
   ]
  },
  {
   "cell_type": "code",
   "execution_count": 9,
   "metadata": {},
   "outputs": [
    {
     "data": {
      "text/html": [
       "<style>#sk-container-id-1 {color: black;}#sk-container-id-1 pre{padding: 0;}#sk-container-id-1 div.sk-toggleable {background-color: white;}#sk-container-id-1 label.sk-toggleable__label {cursor: pointer;display: block;width: 100%;margin-bottom: 0;padding: 0.3em;box-sizing: border-box;text-align: center;}#sk-container-id-1 label.sk-toggleable__label-arrow:before {content: \"▸\";float: left;margin-right: 0.25em;color: #696969;}#sk-container-id-1 label.sk-toggleable__label-arrow:hover:before {color: black;}#sk-container-id-1 div.sk-estimator:hover label.sk-toggleable__label-arrow:before {color: black;}#sk-container-id-1 div.sk-toggleable__content {max-height: 0;max-width: 0;overflow: hidden;text-align: left;background-color: #f0f8ff;}#sk-container-id-1 div.sk-toggleable__content pre {margin: 0.2em;color: black;border-radius: 0.25em;background-color: #f0f8ff;}#sk-container-id-1 input.sk-toggleable__control:checked~div.sk-toggleable__content {max-height: 200px;max-width: 100%;overflow: auto;}#sk-container-id-1 input.sk-toggleable__control:checked~label.sk-toggleable__label-arrow:before {content: \"▾\";}#sk-container-id-1 div.sk-estimator input.sk-toggleable__control:checked~label.sk-toggleable__label {background-color: #d4ebff;}#sk-container-id-1 div.sk-label input.sk-toggleable__control:checked~label.sk-toggleable__label {background-color: #d4ebff;}#sk-container-id-1 input.sk-hidden--visually {border: 0;clip: rect(1px 1px 1px 1px);clip: rect(1px, 1px, 1px, 1px);height: 1px;margin: -1px;overflow: hidden;padding: 0;position: absolute;width: 1px;}#sk-container-id-1 div.sk-estimator {font-family: monospace;background-color: #f0f8ff;border: 1px dotted black;border-radius: 0.25em;box-sizing: border-box;margin-bottom: 0.5em;}#sk-container-id-1 div.sk-estimator:hover {background-color: #d4ebff;}#sk-container-id-1 div.sk-parallel-item::after {content: \"\";width: 100%;border-bottom: 1px solid gray;flex-grow: 1;}#sk-container-id-1 div.sk-label:hover label.sk-toggleable__label {background-color: #d4ebff;}#sk-container-id-1 div.sk-serial::before {content: \"\";position: absolute;border-left: 1px solid gray;box-sizing: border-box;top: 0;bottom: 0;left: 50%;z-index: 0;}#sk-container-id-1 div.sk-serial {display: flex;flex-direction: column;align-items: center;background-color: white;padding-right: 0.2em;padding-left: 0.2em;position: relative;}#sk-container-id-1 div.sk-item {position: relative;z-index: 1;}#sk-container-id-1 div.sk-parallel {display: flex;align-items: stretch;justify-content: center;background-color: white;position: relative;}#sk-container-id-1 div.sk-item::before, #sk-container-id-1 div.sk-parallel-item::before {content: \"\";position: absolute;border-left: 1px solid gray;box-sizing: border-box;top: 0;bottom: 0;left: 50%;z-index: -1;}#sk-container-id-1 div.sk-parallel-item {display: flex;flex-direction: column;z-index: 1;position: relative;background-color: white;}#sk-container-id-1 div.sk-parallel-item:first-child::after {align-self: flex-end;width: 50%;}#sk-container-id-1 div.sk-parallel-item:last-child::after {align-self: flex-start;width: 50%;}#sk-container-id-1 div.sk-parallel-item:only-child::after {width: 0;}#sk-container-id-1 div.sk-dashed-wrapped {border: 1px dashed gray;margin: 0 0.4em 0.5em 0.4em;box-sizing: border-box;padding-bottom: 0.4em;background-color: white;}#sk-container-id-1 div.sk-label label {font-family: monospace;font-weight: bold;display: inline-block;line-height: 1.2em;}#sk-container-id-1 div.sk-label-container {text-align: center;}#sk-container-id-1 div.sk-container {/* jupyter's `normalize.less` sets `[hidden] { display: none; }` but bootstrap.min.css set `[hidden] { display: none !important; }` so we also need the `!important` here to be able to override the default hidden behavior on the sphinx rendered scikit-learn.org. See: https://github.com/scikit-learn/scikit-learn/issues/21755 */display: inline-block !important;position: relative;}#sk-container-id-1 div.sk-text-repr-fallback {display: none;}</style><div id=\"sk-container-id-1\" class=\"sk-top-container\"><div class=\"sk-text-repr-fallback\"><pre>RandomForestClassifier(class_weight=&#x27;balanced&#x27;, max_depth=30, n_estimators=1000,\n",
       "                       random_state=21)</pre><b>In a Jupyter environment, please rerun this cell to show the HTML representation or trust the notebook. <br />On GitHub, the HTML representation is unable to render, please try loading this page with nbviewer.org.</b></div><div class=\"sk-container\" hidden><div class=\"sk-item\"><div class=\"sk-estimator sk-toggleable\"><input class=\"sk-toggleable__control sk-hidden--visually\" id=\"sk-estimator-id-1\" type=\"checkbox\" checked><label for=\"sk-estimator-id-1\" class=\"sk-toggleable__label sk-toggleable__label-arrow\">RandomForestClassifier</label><div class=\"sk-toggleable__content\"><pre>RandomForestClassifier(class_weight=&#x27;balanced&#x27;, max_depth=30, n_estimators=1000,\n",
       "                       random_state=21)</pre></div></div></div></div></div>"
      ],
      "text/plain": [
       "RandomForestClassifier(class_weight='balanced', max_depth=30, n_estimators=1000,\n",
       "                       random_state=21)"
      ]
     },
     "execution_count": 9,
     "metadata": {},
     "output_type": "execute_result"
    }
   ],
   "source": [
    "forest_classifier.fit(\n",
    "    X=X_train_buy_post,\n",
    "    y=y_train_buy_post\n",
    ")"
   ]
  },
  {
   "cell_type": "code",
   "execution_count": 10,
   "metadata": {},
   "outputs": [
    {
     "data": {
      "text/plain": [
       "<sklearn.metrics._plot.roc_curve.RocCurveDisplay at 0x7f7eda78abe0>"
      ]
     },
     "execution_count": 10,
     "metadata": {},
     "output_type": "execute_result"
    },
    {
     "data": {
      "image/png": "[encoded data removed]",
      "text/plain": [
       "<Figure size 640x480 with 1 Axes>"
      ]
     },
     "metadata": {},
     "output_type": "display_data"
    }
   ],
   "source": [
    "RocCurveDisplay.from_estimator(\n",
    "    estimator=forest_classifier,\n",
    "    X=X_test_buy_post,\n",
    "    y=y_test_buy_post\n",
    ")"
   ]
  },
  {
   "cell_type": "code",
   "execution_count": 11,
   "metadata": {},
   "outputs": [
    {
     "data": {
      "text/plain": [
       "0.8111771005744328"
      ]
     },
     "execution_count": 11,
     "metadata": {},
     "output_type": "execute_result"
    }
   ],
   "source": [
    "f1_score(\n",
    "    y_pred=forest_classifier.predict(X_test_buy_post),\n",
    "    y_true=y_test_buy_post\n",
    ")"
   ]
  },
  {
   "cell_type": "code",
   "execution_count": null,
   "metadata": {},
   "outputs": [
    {
     "data": {
      "text/plain": [
       "array([0.81214119, 0.81091791, 0.813113  , 0.81170786])"
      ]
     },
     "execution_count": 60,
     "metadata": {},
     "output_type": "execute_result"
    }
   ],
   "source": [
    "cross_val_score(\n",
    "    estimator=forest_classifier,\n",
    "    X=X_train_buy_post,\n",
    "    y=y_train_buy_post,\n",
    "    cv=4,\n",
    "    scoring='f1'\n",
    ")"
   ]
  },
  {
   "cell_type": "code",
   "execution_count": 12,
   "metadata": {},
   "outputs": [
    {
     "data": {
      "text/plain": [
       "array([0.24992955, 0.40130025, 0.20094084, 0.11844802, 0.02113326,\n",
       "       0.00370083, 0.00454726])"
      ]
     },
     "execution_count": 12,
     "metadata": {},
     "output_type": "execute_result"
    }
   ],
   "source": [
    "forest_classifier.feature_importances_"
   ]
  },
  {
   "cell_type": "markdown",
   "metadata": {},
   "source": [
    "### Сохранение модели"
   ]
  },
  {
   "cell_type": "code",
   "execution_count": 13,
   "metadata": {},
   "outputs": [],
   "source": [
    "import pickle\n",
    "\n",
    "filename = \"../model/third_random_forest_classifier.pickle\"\n",
    "\n",
    "pickle.dump(forest_classifier, open(filename, \"wb\"))"
   ]
  },
  {
   "cell_type": "markdown",
   "metadata": {},
   "source": [
    "### Подберем параметры для задачи классификации"
   ]
  },
  {
   "cell_type": "code",
   "execution_count": null,
   "metadata": {},
   "outputs": [],
   "source": []
  },
  {
   "cell_type": "code",
   "execution_count": null,
   "metadata": {},
   "outputs": [],
   "source": [
    "param_grid = {\n",
    "    'n_estimators': [100, 1000],\n",
    "    'max_depth': [20, 30, 40],\n",
    "    'min_samples_split': [100, 1000, 5000],\n",
    "}"
   ]
  },
  {
   "cell_type": "code",
   "execution_count": null,
   "metadata": {},
   "outputs": [],
   "source": [
    "grid_classifier = GridSearchCV(\n",
    "    estimator=RandomForestClassifier(class_weight='balanced', random_state=21),\n",
    "    param_grid=param_grid,\n",
    "    scoring='f1',\n",
    "    n_jobs=6,\n",
    "    cv=3,\n",
    "    verbose=10\n",
    ")"
   ]
  },
  {
   "cell_type": "code",
   "execution_count": null,
   "metadata": {},
   "outputs": [
    {
     "name": "stdout",
     "output_type": "stream",
     "text": [
      "Fitting 3 folds for each of 18 candidates, totalling 54 fits\n",
      "[CV 3/3; 1/18] START max_depth=20, min_samples_split=100, n_estimators=100......\n",
      "[CV 1/3; 1/18] START max_depth=20, min_samples_split=100, n_estimators=100......\n",
      "[CV 2/3; 2/18] START max_depth=20, min_samples_split=100, n_estimators=1000.....\n",
      "[CV 2/3; 1/18] START max_depth=20, min_samples_split=100, n_estimators=100......\n",
      "[CV 3/3; 2/18] START max_depth=20, min_samples_split=100, n_estimators=1000.....\n",
      "[CV 1/3; 2/18] START max_depth=20, min_samples_split=100, n_estimators=1000.....\n",
      "[CV 3/3; 1/18] END max_depth=20, min_samples_split=100, n_estimators=100;, score=0.743 total time=  28.9s\n",
      "[CV 1/3; 3/18] START max_depth=20, min_samples_split=1000, n_estimators=100.....\n",
      "[CV 1/3; 1/18] END max_depth=20, min_samples_split=100, n_estimators=100;, score=0.742 total time=  29.5s\n",
      "[CV 2/3; 3/18] START max_depth=20, min_samples_split=1000, n_estimators=100.....\n",
      "[CV 2/3; 1/18] END max_depth=20, min_samples_split=100, n_estimators=100;, score=0.747 total time=  29.7s\n",
      "[CV 3/3; 3/18] START max_depth=20, min_samples_split=1000, n_estimators=100.....\n",
      "[CV 1/3; 3/18] END max_depth=20, min_samples_split=1000, n_estimators=100;, score=0.728 total time=  26.8s\n",
      "[CV 1/3; 4/18] START max_depth=20, min_samples_split=1000, n_estimators=1000....\n",
      "[CV 3/3; 3/18] END max_depth=20, min_samples_split=1000, n_estimators=100;, score=0.729 total time=  26.7s\n",
      "[CV 2/3; 4/18] START max_depth=20, min_samples_split=1000, n_estimators=1000....\n",
      "[CV 2/3; 3/18] END max_depth=20, min_samples_split=1000, n_estimators=100;, score=0.735 total time=  27.2s\n",
      "[CV 3/3; 4/18] START max_depth=20, min_samples_split=1000, n_estimators=1000....\n",
      "[CV 3/3; 4/18] END max_depth=20, min_samples_split=1000, n_estimators=1000;, score=0.727 total time= 4.8min\n",
      "[CV 1/3; 5/18] START max_depth=20, min_samples_split=5000, n_estimators=100.....\n",
      "[CV 2/3; 4/18] END max_depth=20, min_samples_split=1000, n_estimators=1000;, score=0.735 total time= 4.9min\n",
      "[CV 2/3; 5/18] START max_depth=20, min_samples_split=5000, n_estimators=100.....\n",
      "[CV 1/3; 4/18] END max_depth=20, min_samples_split=1000, n_estimators=1000;, score=0.727 total time= 4.9min\n",
      "[CV 3/3; 5/18] START max_depth=20, min_samples_split=5000, n_estimators=100.....\n",
      "[CV 1/3; 5/18] END max_depth=20, min_samples_split=5000, n_estimators=100;, score=0.725 total time=  13.6s\n",
      "[CV 1/3; 6/18] START max_depth=20, min_samples_split=5000, n_estimators=1000....\n",
      "[CV 3/3; 2/18] END max_depth=20, min_samples_split=100, n_estimators=1000;, score=0.743 total time= 6.1min\n",
      "[CV 2/3; 6/18] START max_depth=20, min_samples_split=5000, n_estimators=1000....\n",
      "[CV 3/3; 5/18] END max_depth=20, min_samples_split=5000, n_estimators=100;, score=0.727 total time=  14.0s\n",
      "[CV 3/3; 6/18] START max_depth=20, min_samples_split=5000, n_estimators=1000....\n",
      "[CV 2/3; 5/18] END max_depth=20, min_samples_split=5000, n_estimators=100;, score=0.729 total time=  14.4s\n",
      "[CV 1/3; 7/18] START max_depth=30, min_samples_split=100, n_estimators=100......\n",
      "[CV 2/3; 2/18] END max_depth=20, min_samples_split=100, n_estimators=1000;, score=0.748 total time= 6.1min\n",
      "[CV 2/3; 7/18] START max_depth=30, min_samples_split=100, n_estimators=100......\n",
      "[CV 1/3; 2/18] END max_depth=20, min_samples_split=100, n_estimators=1000;, score=0.742 total time= 6.1min\n",
      "[CV 3/3; 7/18] START max_depth=30, min_samples_split=100, n_estimators=100......\n",
      "[CV 3/3; 7/18] END max_depth=30, min_samples_split=100, n_estimators=100;, score=0.745 total time=  28.6s\n",
      "[CV 1/3; 8/18] START max_depth=30, min_samples_split=100, n_estimators=1000.....\n",
      "[CV 1/3; 7/18] END max_depth=30, min_samples_split=100, n_estimators=100;, score=0.745 total time=  29.1s\n",
      "[CV 2/3; 8/18] START max_depth=30, min_samples_split=100, n_estimators=1000.....\n",
      "[CV 2/3; 7/18] END max_depth=30, min_samples_split=100, n_estimators=100;, score=0.750 total time=  29.0s\n",
      "[CV 3/3; 8/18] START max_depth=30, min_samples_split=100, n_estimators=1000.....\n",
      "[CV 1/3; 6/18] END max_depth=20, min_samples_split=5000, n_estimators=1000;, score=0.725 total time= 6.9min\n",
      "[CV 1/3; 9/18] START max_depth=30, min_samples_split=1000, n_estimators=100.....\n",
      "[CV 3/3; 6/18] END max_depth=20, min_samples_split=5000, n_estimators=1000;, score=0.727 total time= 6.8min\n",
      "[CV 2/3; 9/18] START max_depth=30, min_samples_split=1000, n_estimators=100.....\n",
      "[CV 2/3; 6/18] END max_depth=20, min_samples_split=5000, n_estimators=1000;, score=0.730 total time= 6.9min\n",
      "[CV 3/3; 9/18] START max_depth=30, min_samples_split=1000, n_estimators=100.....\n",
      "[CV 1/3; 9/18] END max_depth=30, min_samples_split=1000, n_estimators=100;, score=0.728 total time=  18.7s\n",
      "[CV 1/3; 10/18] START max_depth=30, min_samples_split=1000, n_estimators=1000...\n",
      "[CV 2/3; 9/18] END max_depth=30, min_samples_split=1000, n_estimators=100;, score=0.734 total time=  19.4s\n",
      "[CV 2/3; 10/18] START max_depth=30, min_samples_split=1000, n_estimators=1000...\n",
      "[CV 3/3; 9/18] END max_depth=30, min_samples_split=1000, n_estimators=100;, score=0.728 total time=  18.8s\n",
      "[CV 3/3; 10/18] START max_depth=30, min_samples_split=1000, n_estimators=1000...\n",
      "[CV 3/3; 8/18] END max_depth=30, min_samples_split=100, n_estimators=1000;, score=0.745 total time=30.9min\n",
      "[CV 1/3; 11/18] START max_depth=30, min_samples_split=5000, n_estimators=100....\n",
      "[CV 2/3; 8/18] END max_depth=30, min_samples_split=100, n_estimators=1000;, score=0.750 total time=30.9min\n",
      "[CV 2/3; 11/18] START max_depth=30, min_samples_split=5000, n_estimators=100....\n",
      "[CV 1/3; 8/18] END max_depth=30, min_samples_split=100, n_estimators=1000;, score=0.745 total time=30.9min\n",
      "[CV 3/3; 11/18] START max_depth=30, min_samples_split=5000, n_estimators=100....\n",
      "[CV 1/3; 11/18] END max_depth=30, min_samples_split=5000, n_estimators=100;, score=0.725 total time=  13.9s\n",
      "[CV 1/3; 12/18] START max_depth=30, min_samples_split=5000, n_estimators=1000...\n",
      "[CV 2/3; 11/18] END max_depth=30, min_samples_split=5000, n_estimators=100;, score=0.729 total time=  14.7s\n",
      "[CV 2/3; 12/18] START max_depth=30, min_samples_split=5000, n_estimators=1000...\n",
      "[CV 3/3; 11/18] END max_depth=30, min_samples_split=5000, n_estimators=100;, score=0.727 total time=  14.1s\n",
      "[CV 3/3; 12/18] START max_depth=30, min_samples_split=5000, n_estimators=1000...\n",
      "[CV 3/3; 10/18] END max_depth=30, min_samples_split=1000, n_estimators=1000;, score=0.727 total time=25.2min\n",
      "[CV 1/3; 13/18] START max_depth=40, min_samples_split=100, n_estimators=100.....\n",
      "[CV 1/3; 10/18] END max_depth=30, min_samples_split=1000, n_estimators=1000;, score=0.727 total time=25.3min\n",
      "[CV 2/3; 13/18] START max_depth=40, min_samples_split=100, n_estimators=100.....\n",
      "[CV 2/3; 10/18] END max_depth=30, min_samples_split=1000, n_estimators=1000;, score=0.735 total time=25.3min\n",
      "[CV 3/3; 13/18] START max_depth=40, min_samples_split=100, n_estimators=100.....\n",
      "[CV 1/3; 13/18] END max_depth=40, min_samples_split=100, n_estimators=100;, score=0.744 total time=  26.1s\n",
      "[CV 1/3; 14/18] START max_depth=40, min_samples_split=100, n_estimators=1000....\n",
      "[CV 2/3; 13/18] END max_depth=40, min_samples_split=100, n_estimators=100;, score=0.750 total time=  26.2s\n",
      "[CV 2/3; 14/18] START max_depth=40, min_samples_split=100, n_estimators=1000....\n",
      "[CV 3/3; 13/18] END max_depth=40, min_samples_split=100, n_estimators=100;, score=0.745 total time=  25.6s\n",
      "[CV 3/3; 14/18] START max_depth=40, min_samples_split=100, n_estimators=1000....\n",
      "[CV 1/3; 12/18] END max_depth=30, min_samples_split=5000, n_estimators=1000;, score=0.725 total time= 2.3min\n",
      "[CV 1/3; 15/18] START max_depth=40, min_samples_split=1000, n_estimators=100....\n",
      "[CV 3/3; 12/18] END max_depth=30, min_samples_split=5000, n_estimators=1000;, score=0.727 total time= 2.3min\n",
      "[CV 2/3; 15/18] START max_depth=40, min_samples_split=1000, n_estimators=100....\n",
      "[CV 2/3; 12/18] END max_depth=30, min_samples_split=5000, n_estimators=1000;, score=0.730 total time= 2.3min\n",
      "[CV 3/3; 15/18] START max_depth=40, min_samples_split=1000, n_estimators=100....\n",
      "[CV 1/3; 15/18] END max_depth=40, min_samples_split=1000, n_estimators=100;, score=0.728 total time=  19.8s\n",
      "[CV 1/3; 16/18] START max_depth=40, min_samples_split=1000, n_estimators=1000...\n",
      "[CV 2/3; 15/18] END max_depth=40, min_samples_split=1000, n_estimators=100;, score=0.734 total time=  20.7s\n",
      "[CV 2/3; 16/18] START max_depth=40, min_samples_split=1000, n_estimators=1000...\n",
      "[CV 3/3; 15/18] END max_depth=40, min_samples_split=1000, n_estimators=100;, score=0.728 total time=  19.5s\n",
      "[CV 3/3; 16/18] START max_depth=40, min_samples_split=1000, n_estimators=1000...\n",
      "[CV 2/3; 14/18] END max_depth=40, min_samples_split=100, n_estimators=1000;, score=0.750 total time= 6.6min\n",
      "[CV 1/3; 17/18] START max_depth=40, min_samples_split=5000, n_estimators=100....\n",
      "[CV 3/3; 14/18] END max_depth=40, min_samples_split=100, n_estimators=1000;, score=0.745 total time= 6.6min\n",
      "[CV 2/3; 17/18] START max_depth=40, min_samples_split=5000, n_estimators=100....\n",
      "[CV 1/3; 14/18] END max_depth=40, min_samples_split=100, n_estimators=1000;, score=0.745 total time= 6.7min\n",
      "[CV 3/3; 17/18] START max_depth=40, min_samples_split=5000, n_estimators=100....\n",
      "[CV 1/3; 17/18] END max_depth=40, min_samples_split=5000, n_estimators=100;, score=0.725 total time=  14.0s\n",
      "[CV 1/3; 18/18] START max_depth=40, min_samples_split=5000, n_estimators=1000...\n",
      "[CV 2/3; 17/18] END max_depth=40, min_samples_split=5000, n_estimators=100;, score=0.729 total time=  14.2s\n",
      "[CV 2/3; 18/18] START max_depth=40, min_samples_split=5000, n_estimators=1000...\n",
      "[CV 3/3; 17/18] END max_depth=40, min_samples_split=5000, n_estimators=100;, score=0.727 total time=  13.9s\n",
      "[CV 3/3; 18/18] START max_depth=40, min_samples_split=5000, n_estimators=1000...\n",
      "[CV 3/3; 16/18] END max_depth=40, min_samples_split=1000, n_estimators=1000;, score=0.727 total time= 5.4min\n",
      "[CV 1/3; 16/18] END max_depth=40, min_samples_split=1000, n_estimators=1000;, score=0.727 total time= 5.5min\n",
      "[CV 2/3; 16/18] END max_depth=40, min_samples_split=1000, n_estimators=1000;, score=0.735 total time= 5.5min\n",
      "[CV 3/3; 18/18] END max_depth=40, min_samples_split=5000, n_estimators=1000;, score=0.727 total time= 1.6min\n",
      "[CV 1/3; 18/18] END max_depth=40, min_samples_split=5000, n_estimators=1000;, score=0.725 total time= 1.7min\n",
      "[CV 2/3; 18/18] END max_depth=40, min_samples_split=5000, n_estimators=1000;, score=0.730 total time= 1.7min\n"
     ]
    },
    {
     "data": {
      "text/html": [
       "<style>#sk-container-id-5 {color: black;}#sk-container-id-5 pre{padding: 0;}#sk-container-id-5 div.sk-toggleable {background-color: white;}#sk-container-id-5 label.sk-toggleable__label {cursor: pointer;display: block;width: 100%;margin-bottom: 0;padding: 0.3em;box-sizing: border-box;text-align: center;}#sk-container-id-5 label.sk-toggleable__label-arrow:before {content: \"▸\";float: left;margin-right: 0.25em;color: #696969;}#sk-container-id-5 label.sk-toggleable__label-arrow:hover:before {color: black;}#sk-container-id-5 div.sk-estimator:hover label.sk-toggleable__label-arrow:before {color: black;}#sk-container-id-5 div.sk-toggleable__content {max-height: 0;max-width: 0;overflow: hidden;text-align: left;background-color: #f0f8ff;}#sk-container-id-5 div.sk-toggleable__content pre {margin: 0.2em;color: black;border-radius: 0.25em;background-color: #f0f8ff;}#sk-container-id-5 input.sk-toggleable__control:checked~div.sk-toggleable__content {max-height: 200px;max-width: 100%;overflow: auto;}#sk-container-id-5 input.sk-toggleable__control:checked~label.sk-toggleable__label-arrow:before {content: \"▾\";}#sk-container-id-5 div.sk-estimator input.sk-toggleable__control:checked~label.sk-toggleable__label {background-color: #d4ebff;}#sk-container-id-5 div.sk-label input.sk-toggleable__control:checked~label.sk-toggleable__label {background-color: #d4ebff;}#sk-container-id-5 input.sk-hidden--visually {border: 0;clip: rect(1px 1px 1px 1px);clip: rect(1px, 1px, 1px, 1px);height: 1px;margin: -1px;overflow: hidden;padding: 0;position: absolute;width: 1px;}#sk-container-id-5 div.sk-estimator {font-family: monospace;background-color: #f0f8ff;border: 1px dotted black;border-radius: 0.25em;box-sizing: border-box;margin-bottom: 0.5em;}#sk-container-id-5 div.sk-estimator:hover {background-color: #d4ebff;}#sk-container-id-5 div.sk-parallel-item::after {content: \"\";width: 100%;border-bottom: 1px solid gray;flex-grow: 1;}#sk-container-id-5 div.sk-label:hover label.sk-toggleable__label {background-color: #d4ebff;}#sk-container-id-5 div.sk-serial::before {content: \"\";position: absolute;border-left: 1px solid gray;box-sizing: border-box;top: 0;bottom: 0;left: 50%;z-index: 0;}#sk-container-id-5 div.sk-serial {display: flex;flex-direction: column;align-items: center;background-color: white;padding-right: 0.2em;padding-left: 0.2em;position: relative;}#sk-container-id-5 div.sk-item {position: relative;z-index: 1;}#sk-container-id-5 div.sk-parallel {display: flex;align-items: stretch;justify-content: center;background-color: white;position: relative;}#sk-container-id-5 div.sk-item::before, #sk-container-id-5 div.sk-parallel-item::before {content: \"\";position: absolute;border-left: 1px solid gray;box-sizing: border-box;top: 0;bottom: 0;left: 50%;z-index: -1;}#sk-container-id-5 div.sk-parallel-item {display: flex;flex-direction: column;z-index: 1;position: relative;background-color: white;}#sk-container-id-5 div.sk-parallel-item:first-child::after {align-self: flex-end;width: 50%;}#sk-container-id-5 div.sk-parallel-item:last-child::after {align-self: flex-start;width: 50%;}#sk-container-id-5 div.sk-parallel-item:only-child::after {width: 0;}#sk-container-id-5 div.sk-dashed-wrapped {border: 1px dashed gray;margin: 0 0.4em 0.5em 0.4em;box-sizing: border-box;padding-bottom: 0.4em;background-color: white;}#sk-container-id-5 div.sk-label label {font-family: monospace;font-weight: bold;display: inline-block;line-height: 1.2em;}#sk-container-id-5 div.sk-label-container {text-align: center;}#sk-container-id-5 div.sk-container {/* jupyter's `normalize.less` sets `[hidden] { display: none; }` but bootstrap.min.css set `[hidden] { display: none !important; }` so we also need the `!important` here to be able to override the default hidden behavior on the sphinx rendered scikit-learn.org. See: https://github.com/scikit-learn/scikit-learn/issues/21755 */display: inline-block !important;position: relative;}#sk-container-id-5 div.sk-text-repr-fallback {display: none;}</style><div id=\"sk-container-id-5\" class=\"sk-top-container\"><div class=\"sk-text-repr-fallback\"><pre>GridSearchCV(cv=3,\n",
       "             estimator=RandomForestClassifier(class_weight=&#x27;balanced&#x27;,\n",
       "                                              random_state=21),\n",
       "             n_jobs=6,\n",
       "             param_grid={&#x27;max_depth&#x27;: [20, 30, 40],\n",
       "                         &#x27;min_samples_split&#x27;: [100, 1000, 5000],\n",
       "                         &#x27;n_estimators&#x27;: [100, 1000]},\n",
       "             scoring=&#x27;f1&#x27;, verbose=10)</pre><b>In a Jupyter environment, please rerun this cell to show the HTML representation or trust the notebook. <br />On GitHub, the HTML representation is unable to render, please try loading this page with nbviewer.org.</b></div><div class=\"sk-container\" hidden><div class=\"sk-item sk-dashed-wrapped\"><div class=\"sk-label-container\"><div class=\"sk-label sk-toggleable\"><input class=\"sk-toggleable__control sk-hidden--visually\" id=\"sk-estimator-id-7\" type=\"checkbox\" ><label for=\"sk-estimator-id-7\" class=\"sk-toggleable__label sk-toggleable__label-arrow\">GridSearchCV</label><div class=\"sk-toggleable__content\"><pre>GridSearchCV(cv=3,\n",
       "             estimator=RandomForestClassifier(class_weight=&#x27;balanced&#x27;,\n",
       "                                              random_state=21),\n",
       "             n_jobs=6,\n",
       "             param_grid={&#x27;max_depth&#x27;: [20, 30, 40],\n",
       "                         &#x27;min_samples_split&#x27;: [100, 1000, 5000],\n",
       "                         &#x27;n_estimators&#x27;: [100, 1000]},\n",
       "             scoring=&#x27;f1&#x27;, verbose=10)</pre></div></div></div><div class=\"sk-parallel\"><div class=\"sk-parallel-item\"><div class=\"sk-item\"><div class=\"sk-label-container\"><div class=\"sk-label sk-toggleable\"><input class=\"sk-toggleable__control sk-hidden--visually\" id=\"sk-estimator-id-8\" type=\"checkbox\" ><label for=\"sk-estimator-id-8\" class=\"sk-toggleable__label sk-toggleable__label-arrow\">estimator: RandomForestClassifier</label><div class=\"sk-toggleable__content\"><pre>RandomForestClassifier(class_weight=&#x27;balanced&#x27;, random_state=21)</pre></div></div></div><div class=\"sk-serial\"><div class=\"sk-item\"><div class=\"sk-estimator sk-toggleable\"><input class=\"sk-toggleable__control sk-hidden--visually\" id=\"sk-estimator-id-9\" type=\"checkbox\" ><label for=\"sk-estimator-id-9\" class=\"sk-toggleable__label sk-toggleable__label-arrow\">RandomForestClassifier</label><div class=\"sk-toggleable__content\"><pre>RandomForestClassifier(class_weight=&#x27;balanced&#x27;, random_state=21)</pre></div></div></div></div></div></div></div></div></div></div>"
      ],
      "text/plain": [
       "GridSearchCV(cv=3,\n",
       "             estimator=RandomForestClassifier(class_weight='balanced',\n",
       "                                              random_state=21),\n",
       "             n_jobs=6,\n",
       "             param_grid={'max_depth': [20, 30, 40],\n",
       "                         'min_samples_split': [100, 1000, 5000],\n",
       "                         'n_estimators': [100, 1000]},\n",
       "             scoring='f1', verbose=10)"
      ]
     },
     "execution_count": 49,
     "metadata": {},
     "output_type": "execute_result"
    }
   ],
   "source": [
    "grid_classifier.fit(\n",
    "    X=X_train_buy_post,\n",
    "    y=y_train_buy_post\n",
    ")"
   ]
  },
  {
   "cell_type": "code",
   "execution_count": null,
   "metadata": {},
   "outputs": [
    {
     "data": {
      "text/plain": [
       "<sklearn.metrics._plot.roc_curve.RocCurveDisplay at 0x7fbe6ab889d0>"
      ]
     },
     "execution_count": 50,
     "metadata": {},
     "output_type": "execute_result"
    },
    {
     "data": {
      "image/png": "[encoded data removed]",
      "text/plain": [
       "<Figure size 640x480 with 1 Axes>"
      ]
     },
     "metadata": {},
     "output_type": "display_data"
    }
   ],
   "source": [
    "RocCurveDisplay.from_estimator(\n",
    "    estimator=grid_classifier,\n",
    "    X=X_test_buy_post,\n",
    "    y=y_test_buy_post\n",
    ")"
   ]
  },
  {
   "cell_type": "code",
   "execution_count": null,
   "metadata": {},
   "outputs": [
    {
     "data": {
      "text/plain": [
       "0.7456681094826518"
      ]
     },
     "execution_count": 57,
     "metadata": {},
     "output_type": "execute_result"
    }
   ],
   "source": [
    "f1_score(\n",
    "    y_pred=grid_classifier.predict(X_test_buy_post),\n",
    "    y_true=y_test_buy_post\n",
    ")"
   ]
  },
  {
   "cell_type": "markdown",
   "metadata": {},
   "source": [
    "### Задача регрессии"
   ]
  },
  {
   "cell_type": "code",
   "execution_count": 62,
   "metadata": {},
   "outputs": [],
   "source": [
    "X_diff_post, y_diff_post = train.drop(['buy_post', 'startdatetime', 'customer_id', 'date_diff_post'], axis=1), train['date_diff_post']"
   ]
  },
  {
   "cell_type": "code",
   "execution_count": 63,
   "metadata": {},
   "outputs": [
    {
     "data": {
      "text/html": [
       "<div>\n",
       "<style scoped>\n",
       "    .dataframe tbody tr th:only-of-type {\n",
       "        vertical-align: middle;\n",
       "    }\n",
       "\n",
       "    .dataframe tbody tr th {\n",
       "        vertical-align: top;\n",
       "    }\n",
       "\n",
       "    .dataframe thead th {\n",
       "        text-align: right;\n",
       "    }\n",
       "</style>\n",
       "<table border=\"1\" class=\"dataframe\">\n",
       "  <thead>\n",
       "    <tr style=\"text-align: right;\">\n",
       "      <th></th>\n",
       "      <th>MaxMinDelta</th>\n",
       "      <th>MeanOrderPrice</th>\n",
       "      <th>FavoriteDish</th>\n",
       "      <th>FavoriteHour</th>\n",
       "      <th>MostVisitedFormat</th>\n",
       "      <th>is_food_court</th>\n",
       "      <th>is_toilet</th>\n",
       "    </tr>\n",
       "  </thead>\n",
       "  <tbody>\n",
       "    <tr>\n",
       "      <th>0</th>\n",
       "      <td>57</td>\n",
       "      <td>230.39</td>\n",
       "      <td>9</td>\n",
       "      <td>9</td>\n",
       "      <td>1</td>\n",
       "      <td>0</td>\n",
       "      <td>1</td>\n",
       "    </tr>\n",
       "    <tr>\n",
       "      <th>34</th>\n",
       "      <td>51</td>\n",
       "      <td>283.00</td>\n",
       "      <td>29</td>\n",
       "      <td>9</td>\n",
       "      <td>0</td>\n",
       "      <td>0</td>\n",
       "      <td>1</td>\n",
       "    </tr>\n",
       "    <tr>\n",
       "      <th>149</th>\n",
       "      <td>50</td>\n",
       "      <td>493.40</td>\n",
       "      <td>2</td>\n",
       "      <td>15</td>\n",
       "      <td>2</td>\n",
       "      <td>1</td>\n",
       "      <td>0</td>\n",
       "    </tr>\n",
       "    <tr>\n",
       "      <th>248</th>\n",
       "      <td>27</td>\n",
       "      <td>144.48</td>\n",
       "      <td>50</td>\n",
       "      <td>21</td>\n",
       "      <td>3</td>\n",
       "      <td>0</td>\n",
       "      <td>0</td>\n",
       "    </tr>\n",
       "    <tr>\n",
       "      <th>455</th>\n",
       "      <td>15</td>\n",
       "      <td>558.94</td>\n",
       "      <td>43</td>\n",
       "      <td>11</td>\n",
       "      <td>2</td>\n",
       "      <td>1</td>\n",
       "      <td>0</td>\n",
       "    </tr>\n",
       "    <tr>\n",
       "      <th>...</th>\n",
       "      <td>...</td>\n",
       "      <td>...</td>\n",
       "      <td>...</td>\n",
       "      <td>...</td>\n",
       "      <td>...</td>\n",
       "      <td>...</td>\n",
       "      <td>...</td>\n",
       "    </tr>\n",
       "    <tr>\n",
       "      <th>24261871</th>\n",
       "      <td>1</td>\n",
       "      <td>389.05</td>\n",
       "      <td>5</td>\n",
       "      <td>11</td>\n",
       "      <td>2</td>\n",
       "      <td>1</td>\n",
       "      <td>0</td>\n",
       "    </tr>\n",
       "    <tr>\n",
       "      <th>24261882</th>\n",
       "      <td>0</td>\n",
       "      <td>603.78</td>\n",
       "      <td>2</td>\n",
       "      <td>15</td>\n",
       "      <td>4</td>\n",
       "      <td>1</td>\n",
       "      <td>1</td>\n",
       "    </tr>\n",
       "    <tr>\n",
       "      <th>24261928</th>\n",
       "      <td>0</td>\n",
       "      <td>412.70</td>\n",
       "      <td>156</td>\n",
       "      <td>21</td>\n",
       "      <td>2</td>\n",
       "      <td>1</td>\n",
       "      <td>0</td>\n",
       "    </tr>\n",
       "    <tr>\n",
       "      <th>24261958</th>\n",
       "      <td>0</td>\n",
       "      <td>454.97</td>\n",
       "      <td>465</td>\n",
       "      <td>12</td>\n",
       "      <td>1</td>\n",
       "      <td>0</td>\n",
       "      <td>1</td>\n",
       "    </tr>\n",
       "    <tr>\n",
       "      <th>24261964</th>\n",
       "      <td>0</td>\n",
       "      <td>281.97</td>\n",
       "      <td>29</td>\n",
       "      <td>18</td>\n",
       "      <td>4</td>\n",
       "      <td>1</td>\n",
       "      <td>1</td>\n",
       "    </tr>\n",
       "  </tbody>\n",
       "</table>\n",
       "<p>500000 rows × 7 columns</p>\n",
       "</div>"
      ],
      "text/plain": [
       "          MaxMinDelta  MeanOrderPrice  FavoriteDish  FavoriteHour  \\\n",
       "0                  57          230.39             9             9   \n",
       "34                 51          283.00            29             9   \n",
       "149                50          493.40             2            15   \n",
       "248                27          144.48            50            21   \n",
       "455                15          558.94            43            11   \n",
       "...               ...             ...           ...           ...   \n",
       "24261871            1          389.05             5            11   \n",
       "24261882            0          603.78             2            15   \n",
       "24261928            0          412.70           156            21   \n",
       "24261958            0          454.97           465            12   \n",
       "24261964            0          281.97            29            18   \n",
       "\n",
       "          MostVisitedFormat  is_food_court  is_toilet  \n",
       "0                         1              0          1  \n",
       "34                        0              0          1  \n",
       "149                       2              1          0  \n",
       "248                       3              0          0  \n",
       "455                       2              1          0  \n",
       "...                     ...            ...        ...  \n",
       "24261871                  2              1          0  \n",
       "24261882                  4              1          1  \n",
       "24261928                  2              1          0  \n",
       "24261958                  1              0          1  \n",
       "24261964                  4              1          1  \n",
       "\n",
       "[500000 rows x 7 columns]"
      ]
     },
     "execution_count": 63,
     "metadata": {},
     "output_type": "execute_result"
    }
   ],
   "source": [
    "X_diff_post"
   ]
  },
  {
   "cell_type": "code",
   "execution_count": 64,
   "metadata": {},
   "outputs": [],
   "source": [
    "X_train_diff_post, X_test_diff_post, y_train_diff_post, y_test_diff_post = train_test_split(\n",
    "    X_diff_post, y_diff_post,\n",
    "    test_size=0.33,\n",
    "    shuffle=True,\n",
    "    random_state=66\n",
    ")"
   ]
  },
  {
   "cell_type": "code",
   "execution_count": 65,
   "metadata": {},
   "outputs": [],
   "source": [
    "forest_regressor = RandomForestRegressor(n_estimators=1000, max_depth=20, random_state=55)"
   ]
  },
  {
   "cell_type": "code",
   "execution_count": 66,
   "metadata": {},
   "outputs": [
    {
     "data": {
      "text/html": [
       "<style>#sk-container-id-3 {color: black;}#sk-container-id-3 pre{padding: 0;}#sk-container-id-3 div.sk-toggleable {background-color: white;}#sk-container-id-3 label.sk-toggleable__label {cursor: pointer;display: block;width: 100%;margin-bottom: 0;padding: 0.3em;box-sizing: border-box;text-align: center;}#sk-container-id-3 label.sk-toggleable__label-arrow:before {content: \"▸\";float: left;margin-right: 0.25em;color: #696969;}#sk-container-id-3 label.sk-toggleable__label-arrow:hover:before {color: black;}#sk-container-id-3 div.sk-estimator:hover label.sk-toggleable__label-arrow:before {color: black;}#sk-container-id-3 div.sk-toggleable__content {max-height: 0;max-width: 0;overflow: hidden;text-align: left;background-color: #f0f8ff;}#sk-container-id-3 div.sk-toggleable__content pre {margin: 0.2em;color: black;border-radius: 0.25em;background-color: #f0f8ff;}#sk-container-id-3 input.sk-toggleable__control:checked~div.sk-toggleable__content {max-height: 200px;max-width: 100%;overflow: auto;}#sk-container-id-3 input.sk-toggleable__control:checked~label.sk-toggleable__label-arrow:before {content: \"▾\";}#sk-container-id-3 div.sk-estimator input.sk-toggleable__control:checked~label.sk-toggleable__label {background-color: #d4ebff;}#sk-container-id-3 div.sk-label input.sk-toggleable__control:checked~label.sk-toggleable__label {background-color: #d4ebff;}#sk-container-id-3 input.sk-hidden--visually {border: 0;clip: rect(1px 1px 1px 1px);clip: rect(1px, 1px, 1px, 1px);height: 1px;margin: -1px;overflow: hidden;padding: 0;position: absolute;width: 1px;}#sk-container-id-3 div.sk-estimator {font-family: monospace;background-color: #f0f8ff;border: 1px dotted black;border-radius: 0.25em;box-sizing: border-box;margin-bottom: 0.5em;}#sk-container-id-3 div.sk-estimator:hover {background-color: #d4ebff;}#sk-container-id-3 div.sk-parallel-item::after {content: \"\";width: 100%;border-bottom: 1px solid gray;flex-grow: 1;}#sk-container-id-3 div.sk-label:hover label.sk-toggleable__label {background-color: #d4ebff;}#sk-container-id-3 div.sk-serial::before {content: \"\";position: absolute;border-left: 1px solid gray;box-sizing: border-box;top: 0;bottom: 0;left: 50%;z-index: 0;}#sk-container-id-3 div.sk-serial {display: flex;flex-direction: column;align-items: center;background-color: white;padding-right: 0.2em;padding-left: 0.2em;position: relative;}#sk-container-id-3 div.sk-item {position: relative;z-index: 1;}#sk-container-id-3 div.sk-parallel {display: flex;align-items: stretch;justify-content: center;background-color: white;position: relative;}#sk-container-id-3 div.sk-item::before, #sk-container-id-3 div.sk-parallel-item::before {content: \"\";position: absolute;border-left: 1px solid gray;box-sizing: border-box;top: 0;bottom: 0;left: 50%;z-index: -1;}#sk-container-id-3 div.sk-parallel-item {display: flex;flex-direction: column;z-index: 1;position: relative;background-color: white;}#sk-container-id-3 div.sk-parallel-item:first-child::after {align-self: flex-end;width: 50%;}#sk-container-id-3 div.sk-parallel-item:last-child::after {align-self: flex-start;width: 50%;}#sk-container-id-3 div.sk-parallel-item:only-child::after {width: 0;}#sk-container-id-3 div.sk-dashed-wrapped {border: 1px dashed gray;margin: 0 0.4em 0.5em 0.4em;box-sizing: border-box;padding-bottom: 0.4em;background-color: white;}#sk-container-id-3 div.sk-label label {font-family: monospace;font-weight: bold;display: inline-block;line-height: 1.2em;}#sk-container-id-3 div.sk-label-container {text-align: center;}#sk-container-id-3 div.sk-container {/* jupyter's `normalize.less` sets `[hidden] { display: none; }` but bootstrap.min.css set `[hidden] { display: none !important; }` so we also need the `!important` here to be able to override the default hidden behavior on the sphinx rendered scikit-learn.org. See: https://github.com/scikit-learn/scikit-learn/issues/21755 */display: inline-block !important;position: relative;}#sk-container-id-3 div.sk-text-repr-fallback {display: none;}</style><div id=\"sk-container-id-3\" class=\"sk-top-container\"><div class=\"sk-text-repr-fallback\"><pre>RandomForestRegressor(max_depth=20, random_state=55)</pre><b>In a Jupyter environment, please rerun this cell to show the HTML representation or trust the notebook. <br />On GitHub, the HTML representation is unable to render, please try loading this page with nbviewer.org.</b></div><div class=\"sk-container\" hidden><div class=\"sk-item\"><div class=\"sk-estimator sk-toggleable\"><input class=\"sk-toggleable__control sk-hidden--visually\" id=\"sk-estimator-id-3\" type=\"checkbox\" checked><label for=\"sk-estimator-id-3\" class=\"sk-toggleable__label sk-toggleable__label-arrow\">RandomForestRegressor</label><div class=\"sk-toggleable__content\"><pre>RandomForestRegressor(max_depth=20, random_state=55)</pre></div></div></div></div></div>"
      ],
      "text/plain": [
       "RandomForestRegressor(max_depth=20, random_state=55)"
      ]
     },
     "execution_count": 66,
     "metadata": {},
     "output_type": "execute_result"
    }
   ],
   "source": [
    "forest_regressor.fit(\n",
    "    X=X_train_diff_post,\n",
    "    y=y_train_diff_post\n",
    ")"
   ]
  },
  {
   "cell_type": "code",
   "execution_count": 67,
   "metadata": {},
   "outputs": [
    {
     "data": {
      "text/plain": [
       "289.8545492128177"
      ]
     },
     "execution_count": 67,
     "metadata": {},
     "output_type": "execute_result"
    }
   ],
   "source": [
    "mse = mean_squared_error(\n",
    "    y_pred=forest_regressor.predict(X_test_diff_post),\n",
    "    y_true=y_test_diff_post\n",
    ")\n",
    "\n",
    "mse"
   ]
  },
  {
   "cell_type": "code",
   "execution_count": 68,
   "metadata": {},
   "outputs": [
    {
     "data": {
      "text/plain": [
       "17.025115248150822"
      ]
     },
     "execution_count": 68,
     "metadata": {},
     "output_type": "execute_result"
    }
   ],
   "source": [
    "rmse = mse ** 0.5\n",
    "\n",
    "rmse"
   ]
  },
  {
   "cell_type": "code",
   "execution_count": 69,
   "metadata": {},
   "outputs": [
    {
     "data": {
      "text/plain": [
       "array([0.17514386, 0.3992222 , 0.19810945, 0.13344209, 0.06291533,\n",
       "       0.01497201, 0.01619506])"
      ]
     },
     "execution_count": 69,
     "metadata": {},
     "output_type": "execute_result"
    }
   ],
   "source": [
    "forest_regressor.feature_importances_"
   ]
  },
  {
   "cell_type": "code",
   "execution_count": 70,
   "metadata": {},
   "outputs": [],
   "source": [
    "import pickle\n",
    "\n",
    "filename = \"../model/new_random_forest_regressor.pickle\"\n",
    "\n",
    "pickle.dump(forest_regressor, open(filename, \"wb\"))"
   ]
  },
  {
   "cell_type": "markdown",
   "metadata": {},
   "source": [
    "### Подберем параметры для задачи регрессии"
   ]
  },
  {
   "cell_type": "code",
   "execution_count": null,
   "metadata": {},
   "outputs": [],
   "source": []
  },
  {
   "cell_type": "code",
   "execution_count": null,
   "metadata": {},
   "outputs": [],
   "source": []
  },
  {
   "cell_type": "code",
   "execution_count": null,
   "metadata": {},
   "outputs": [],
   "source": []
  },
  {
   "cell_type": "code",
   "execution_count": null,
   "metadata": {},
   "outputs": [],
   "source": []
  },
  {
   "cell_type": "code",
   "execution_count": null,
   "metadata": {},
   "outputs": [],
   "source": []
  },
  {
   "cell_type": "code",
   "execution_count": null,
   "metadata": {},
   "outputs": [],
   "source": []
  }
 ],
 "metadata": {
  "kernelspec": {
   "display_name": "BK_venv",
   "language": "python",
   "name": "python3"
  },
  "language_info": {
   "codemirror_mode": {
    "name": "ipython",
    "version": 3
   },
   "file_extension": ".py",
   "mimetype": "text/x-python",
   "name": "python",
   "nbconvert_exporter": "python",
   "pygments_lexer": "ipython3",
   "version": "3.9.13"
  }
 },
 "nbformat": 4,
 "nbformat_minor": 2
}
